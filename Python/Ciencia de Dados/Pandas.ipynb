{
 "cells": [
  {
   "cell_type": "code",
   "execution_count": 1,
   "metadata": {},
   "outputs": [],
   "source": [
    "# Importação\n",
    "import pandas as pd"
   ]
  },
  {
   "cell_type": "markdown",
   "metadata": {},
   "source": [
    "# DataFrame"
   ]
  },
  {
   "cell_type": "code",
   "execution_count": null,
   "metadata": {},
   "outputs": [],
   "source": [
    "# A partir de um dicionário\n",
    "\n",
    "venda = {'data': ['15/02/2021', '16/02/2021'],\n",
    "         'valor': [500, 300],\n",
    "         'produto': ['feijao', 'arroz'],\n",
    "         'qtde': [50, 70],\n",
    "        }\n",
    "\n",
    "vendas_df_dicionario = pd.DataFrame(venda)\n",
    "print(vendas_df_dicionario)"
   ]
  },
  {
   "cell_type": "code",
   "execution_count": null,
   "metadata": {},
   "outputs": [],
   "source": [
    "#  A partir de arquivos e bases de dados\n",
    "\n",
    "vendas_df = pd.read_csv(\"vendas.csv\")\n",
    "display(vendas_df)"
   ]
  },
  {
   "cell_type": "markdown",
   "metadata": {},
   "source": [
    "# Visualização de Dados simples"
   ]
  },
  {
   "cell_type": "code",
   "execution_count": null,
   "metadata": {},
   "outputs": [],
   "source": [
    "# Cabeçalho\n",
    "print(vendas_df.head(4))"
   ]
  },
  {
   "cell_type": "code",
   "execution_count": null,
   "metadata": {},
   "outputs": [],
   "source": [
    "# Linhas e Colunas\n",
    "print(vendas_df.shape)"
   ]
  },
  {
   "cell_type": "code",
   "execution_count": null,
   "metadata": {},
   "outputs": [],
   "source": [
    "print(vendas_df.describe())"
   ]
  },
  {
   "cell_type": "markdown",
   "metadata": {},
   "source": [
    "# ."
   ]
  },
  {
   "cell_type": "code",
   "execution_count": null,
   "metadata": {},
   "outputs": [],
   "source": [
    "produtos = vendas_df[['Categoria', 'ID Produto']]\n",
    "display(produtos)"
   ]
  },
  {
   "cell_type": "markdown",
   "metadata": {},
   "source": [
    "# .loc"
   ]
  },
  {
   "cell_type": "code",
   "execution_count": null,
   "metadata": {},
   "outputs": [],
   "source": [
    "# pegar uma linha\n",
    "display(vendas_df.loc[1:5])"
   ]
  },
  {
   "cell_type": "code",
   "execution_count": null,
   "metadata": {},
   "outputs": [],
   "source": [
    "# pegar linhas que correspondem a uma condição\n",
    "vendas_CE = vendas_df.loc[vendas_df['Categoria'] == 'Eletrônicos']\n",
    "display(vendas_CE)"
   ]
  },
  {
   "cell_type": "code",
   "execution_count": null,
   "metadata": {},
   "outputs": [],
   "source": [
    "# pegar várias linhas e colunas usando o loc\n",
    "vendas_norteshopping_df = vendas_df.loc[vendas_df['Categoria'] == 'Eletrônicos', [\"Categoria\", \"Preço Unitário (R$)\", \"Quantidade Vendida\"]]\n",
    "display(vendas_norteshopping_df)"
   ]
  },
  {
   "cell_type": "code",
   "execution_count": null,
   "metadata": {},
   "outputs": [],
   "source": [
    "# pegar 1 valor específico\n",
    "print(vendas_df.loc[7, 'Nome do Produto'])"
   ]
  },
  {
   "cell_type": "markdown",
   "metadata": {},
   "source": [
    "# Adicionar e Deletar"
   ]
  },
  {
   "cell_type": "code",
   "execution_count": null,
   "metadata": {},
   "outputs": [],
   "source": [
    "# Adicionar uma coluna a partir de dados de outras(s) colunas\n",
    "vendas_df['Total de Ganhos'] = vendas_df['Preço Unitário (R$)'] * vendas_df['Quantidade Vendida']\n",
    "display(vendas_df)"
   ]
  },
  {
   "cell_type": "code",
   "execution_count": null,
   "metadata": {},
   "outputs": [],
   "source": [
    "# Adicionar uma coluna a partir do absoludo zero\n",
    "vendas_df.loc[:, \"Imposto\"] = \"2%\"\n",
    "display(vendas_df)"
   ]
  },
  {
   "cell_type": "code",
   "execution_count": null,
   "metadata": {},
   "outputs": [],
   "source": [
    "# Adicionar mais linhas   com dados semelhantes\n",
    "vendas1_df = pd.read_csv(\"vendas1.csv\")\n",
    "# display(vendas1_df)\n",
    "\n",
    "vendas_df = vendas_df.append(vendas1_df)\n",
    "display(vendas_df)"
   ]
  },
  {
   "cell_type": "code",
   "execution_count": null,
   "metadata": {},
   "outputs": [],
   "source": [
    "# Deletar   ->    drop(numero da linha / nome da coluna, axis=0 -> linha / axis=1 -> coluna)\n",
    "vendas_df = vendas_df.drop(\"ID Produto\", axis=1)\n",
    "display(vendas_df)"
   ]
  },
  {
   "cell_type": "markdown",
   "metadata": {},
   "source": [
    "# Valores Vazios"
   ]
  },
  {
   "cell_type": "code",
   "execution_count": null,
   "metadata": {},
   "outputs": [],
   "source": [
    "# Deletar linhas e colunas completamente vazias\n",
    "vendas_df = vendas_df.dropna(how='all', axis=1)"
   ]
  },
  {
   "cell_type": "code",
   "execution_count": null,
   "metadata": {},
   "outputs": [],
   "source": [
    "# deletar linhas que possuem pelo menos 1 valor vazio\n",
    "vendas_df = vendas_df.dropna()"
   ]
  },
  {
   "cell_type": "code",
   "execution_count": null,
   "metadata": {},
   "outputs": [],
   "source": [
    "# preencher valores vazios   ->   preencher com a média da coluna\n",
    "vendas_df['A'] = vendas_df['A'].fillna(vendas_df['A'].mean())\n",
    "display(vendas_df)"
   ]
  },
  {
   "cell_type": "markdown",
   "metadata": {},
   "source": [
    "# Calcular Valores"
   ]
  },
  {
   "cell_type": "code",
   "execution_count": null,
   "metadata": {},
   "outputs": [],
   "source": [
    "# value counts   ->   Conta quanta coias de repetem (esse caso nada se repete)\n",
    "transacoes_loja = vendas_df['Nome do Produto'].value_counts()\n",
    "display(transacoes_loja)"
   ]
  },
  {
   "cell_type": "code",
   "execution_count": null,
   "metadata": {},
   "outputs": [],
   "source": [
    "# group by   ->\n",
    "faturamento_produto = vendas_df[['Nome do Produto', 'Total de Ganhos']].groupby('Nome do Produto').sum()\n",
    "display(faturamento_produto)"
   ]
  },
  {
   "cell_type": "markdown",
   "metadata": {},
   "source": [
    "# Mesclar 2 dataframes (Procurar informações de um dataframe em outro)"
   ]
  },
  {
   "cell_type": "code",
   "execution_count": null,
   "metadata": {},
   "outputs": [],
   "source": [
    "aaa = pd.read(\"\")\n",
    "# display()\n",
    "\n",
    "vendas_df = vendas_df.merge(aaa)\n",
    "display(vendas_df)"
   ]
  }
 ],
 "metadata": {
  "kernelspec": {
   "display_name": "Python 3",
   "language": "python",
   "name": "python3"
  },
  "language_info": {
   "codemirror_mode": {
    "name": "ipython",
    "version": 3
   },
   "file_extension": ".py",
   "mimetype": "text/x-python",
   "name": "python",
   "nbconvert_exporter": "python",
   "pygments_lexer": "ipython3",
   "version": "3.12.5"
  }
 },
 "nbformat": 4,
 "nbformat_minor": 2
}
